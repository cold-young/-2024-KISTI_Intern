{
 "cells": [
  {
   "cell_type": "markdown",
   "metadata": {},
   "source": [
    "## Vizualization MNIST DATASET\n",
    "Chanyoung Ahn | [Github](https://github.com/cold-young)\n"
   ]
  },
  {
   "cell_type": "code",
   "execution_count": 2,
   "metadata": {},
   "outputs": [],
   "source": [
    "import matplotlib.pyplot as plt\n",
    "import os\n",
    "import numpy as np"
   ]
  },
  {
   "cell_type": "code",
   "execution_count": 3,
   "metadata": {},
   "outputs": [
    {
     "name": "stdout",
     "output_type": "stream",
     "text": [
      "The shape of training images: 60000 and training labels: (60000,)\n",
      "The shape of test images: (10000, 784) and test labels: (10000,)\n"
     ]
    }
   ],
   "source": [
    "# Load MNIST Dataset\n",
    "data_sources = {\n",
    "    \"train_images\" : \"data/train-images-idx3-ubyte\",\n",
    "    \"train_labels\" : \"data/train-labels-idx1-ubyte\",\n",
    "    \"test_images\" : \"data/t10k-images-idx3-ubyte\",\n",
    "    \"test_labels\" : \"data/t10k-labels-idx1-ubyte\"\n",
    "}\n",
    "\n",
    "mnist_dataset = {}\n",
    "\n",
    "## Load images\n",
    "for key in (\"train_images\", \"test_images\"):\n",
    "    with open(data_sources[key], 'rb') as mnist_file:\n",
    "        mnist_dataset[key] = np.frombuffer(mnist_file.read(), np.uint8, offset=16).reshape(-1, 28*28)\n",
    "        \n",
    "for key in (\"train_labels\", \"test_labels\"):\n",
    "    with open(data_sources[key], 'rb') as mnist_file:\n",
    "        mnist_dataset[key] = np.frombuffer(mnist_file.read(), np.uint8, offset=8)\n",
    "\n",
    "x_train, y_train, x_test, y_test = (mnist_dataset[\"train_images\"],\n",
    "                                    mnist_dataset[\"train_labels\"],\n",
    "                                    mnist_dataset[\"test_images\"],\n",
    "                                    mnist_dataset[\"test_labels\"])\n",
    "\n",
    "\n",
    "print('The shape of training images: {} and training labels: {}'.format(len(x_train), y_train.shape))\n",
    "print('The shape of test images: {} and test labels: {}'.format(x_test.shape, y_test.shape))"
   ]
  },
  {
   "cell_type": "code",
   "execution_count": 4,
   "metadata": {},
   "outputs": [
    {
     "name": "stdout",
     "output_type": "stream",
     "text": [
      "59999-th image label: 8\n"
     ]
    },
    {
     "data": {
      "image/png": "[encoded data removed]",
      "text/plain": [
       "<Figure size 640x480 with 1 Axes>"
      ]
     },
     "metadata": {},
     "output_type": "display_data"
    }
   ],
   "source": [
    "th = 59999\n",
    "mnist_image = x_train[th, :].reshape(28, 28)\n",
    "print(f\"{th}-th image label: {y_train[th]}\")\n",
    "plt.imshow(mnist_image, cmap='gray')\n",
    "plt.show()"
   ]
  },
  {
   "cell_type": "code",
   "execution_count": 5,
   "metadata": {},
   "outputs": [
    {
     "data": {
      "image/png": "[encoded data removed]",
      "text/plain": [
       "<Figure size 640x480 with 5 Axes>"
      ]
     },
     "metadata": {},
     "output_type": "display_data"
    }
   ],
   "source": [
    "num_examples = 5\n",
    "seed = 147197952744\n",
    "rng = np.random.default_rng(seed)\n",
    "\n",
    "fig, axes = plt.subplots(1, num_examples)\n",
    "for sample, ax in zip(rng.choice(x_train, size=num_examples, replace=False), axes):\n",
    "    ax.imshow(sample.reshape(28, 28), cmap='gray')"
   ]
  }
 ],
 "metadata": {
  "kernelspec": {
   "display_name": "p2env",
   "language": "python",
   "name": "python3"
  },
  "language_info": {
   "codemirror_mode": {
    "name": "ipython",
    "version": 3
   },
   "file_extension": ".py",
   "mimetype": "text/x-python",
   "name": "python",
   "nbconvert_exporter": "python",
   "pygments_lexer": "ipython3",
   "version": "3.11.9"
  }
 },
 "nbformat": 4,
 "nbformat_minor": 2
}
