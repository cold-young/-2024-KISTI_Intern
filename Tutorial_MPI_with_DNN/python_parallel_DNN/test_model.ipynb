{
 "cells": [
  {
   "cell_type": "markdown",
   "metadata": {},
   "source": [
    "## Vizualization MNIST DATASET / Segmenation Model\n",
    "Chanyoung Ahn | [Github](https://github.com/cold-young)\n"
   ]
  },
  {
   "cell_type": "code",
   "execution_count": 1,
   "metadata": {},
   "outputs": [],
   "source": [
    "your_model_name='parallel_DNN_model.pkl'"
   ]
  },
  {
   "cell_type": "code",
   "execution_count": 2,
   "metadata": {},
   "outputs": [],
   "source": [
    "import numpy as np\n",
    "import matplotlib.pyplot as plt\n",
    "from mnist_file import mnist_get_dataset, mnist_batch\n",
    "from neural_network import (\n",
    "    NN,\n",
    "    neural_network_hypothesis\n",
    ")\n",
    "import pickle\n"
   ]
  },
  {
   "cell_type": "code",
   "execution_count": 10,
   "metadata": {},
   "outputs": [],
   "source": [
    "\n",
    "def load_network(filename):\n",
    "    with open(filename, 'rb') as f:\n",
    "        network = pickle.load(f)\n",
    "    return network\n",
    "\n",
    "def calculate_accuracy(dataset: dict, network: NN):\n",
    "    correct = 0\n",
    "\n",
    "    for i in range(dataset[\"size\"]):\n",
    "        activations, _ = neural_network_hypothesis(dataset[\"images\"][i], network)\n",
    "        predict = np.argmax(activations)\n",
    "        if predict == dataset[\"labels\"][i]:\n",
    "            correct += 1\n",
    "\n",
    "    return correct / dataset[\"size\"]"
   ]
  },
  {
   "cell_type": "code",
   "execution_count": 11,
   "metadata": {},
   "outputs": [],
   "source": [
    "# Load Test dataset\n",
    "data_sources = {\n",
    "    \"train_images\": \"data/train-images-idx3-ubyte\",\n",
    "    \"train_labels\": \"data/train-labels-idx1-ubyte\",\n",
    "    \"test_images\": \"data/t10k-images-idx3-ubyte\",\n",
    "    \"test_labels\": \"data/t10k-labels-idx1-ubyte\",\n",
    "}\n",
    "test_dataset = mnist_get_dataset(\n",
    "    data_sources[\"test_images\"], data_sources[\"test_labels\"]\n",
    ")\n"
   ]
  },
  {
   "cell_type": "code",
   "execution_count": 12,
   "metadata": {},
   "outputs": [
    {
     "data": {
      "image/png": "[encoded data removed]",
      "text/plain": [
       "<Figure size 640x480 with 5 Axes>"
      ]
     },
     "metadata": {},
     "output_type": "display_data"
    }
   ],
   "source": [
    "# Visualize Test dataset\n",
    "num_examples = 5\n",
    "seed = 147197952744\n",
    "rng = np.random.default_rng(seed)\n",
    "\n",
    "fig, axes = plt.subplots(1, num_examples)\n",
    "for sample, ax in zip(rng.choice(test_dataset[\"images\"], size=num_examples, replace=False), axes):\n",
    "    ax.imshow(sample.reshape(28, 28), cmap='gray')"
   ]
  },
  {
   "cell_type": "code",
   "execution_count": 13,
   "metadata": {},
   "outputs": [
    {
     "name": "stdout",
     "output_type": "stream",
     "text": [
      "Total Accuracy: 70.730 %\n"
     ]
    }
   ],
   "source": [
    "# Load your network model\n",
    "network = load_network(your_model_name)\n",
    "\n",
    "# Test accuarcy from test_dataset\n",
    "accuracy = calculate_accuracy(test_dataset, network)\n",
    "result = \"Total Accuracy: {0:3.3f} %\".format(accuracy*100)\n",
    "print(result)"
   ]
  },
  {
   "cell_type": "code",
   "execution_count": 14,
   "metadata": {},
   "outputs": [
    {
     "name": "stdout",
     "output_type": "stream",
     "text": [
      "Segmenation model: [8, 9, 1, 2, 6]\n"
     ]
    },
    {
     "data": {
      "image/png": "[encoded data removed]",
      "text/plain": [
       "<Figure size 640x480 with 5 Axes>"
      ]
     },
     "metadata": {},
     "output_type": "display_data"
    }
   ],
   "source": [
    "num_examples = 5\n",
    "idx = np.array([i for i in range(test_dataset[\"size\"])])\n",
    "fig, axes = plt.subplots(1, num_examples)\n",
    "labels = []\n",
    "for sample, ax in zip(rng.choice(idx, size=num_examples, replace=False), axes):\n",
    "    ax.imshow(test_dataset[\"images\"][sample].reshape(28, 28), cmap='gray')\n",
    "\n",
    "\n",
    "    activations,_ = neural_network_hypothesis(test_dataset[\"images\"][sample], network)\n",
    "    labels.append(np.argmax(activations))\n",
    "    \n",
    "\n",
    "print(f\"Segmenation model: {labels}\")\n"
   ]
  },
  {
   "cell_type": "code",
   "execution_count": null,
   "metadata": {},
   "outputs": [],
   "source": []
  }
 ],
 "metadata": {
  "kernelspec": {
   "display_name": "p2env",
   "language": "python",
   "name": "python3"
  },
  "language_info": {
   "codemirror_mode": {
    "name": "ipython",
    "version": 3
   },
   "file_extension": ".py",
   "mimetype": "text/x-python",
   "name": "python",
   "nbconvert_exporter": "python",
   "pygments_lexer": "ipython3",
   "version": "3.11.9"
  }
 },
 "nbformat": 4,
 "nbformat_minor": 2
}
